{
 "cells": [
  {
   "cell_type": "markdown",
   "metadata": {},
   "source": [
    "# 1er sprint"
   ]
  },
  {
   "cell_type": "code",
   "execution_count": null,
   "metadata": {},
   "outputs": [],
   "source": [
    "import matplotlib.pyplot as plt\n",
    "import numpy as np\n",
    "import random\n",
    "\n",
    "def plot_navigation_problem(grid_size, start_position, goal_position, agent_position, holes):\n",
    "    \"\"\"Plots a navigation problem on a grid with agent, start, goal, and holes marked in RGB colors.\n",
    "\n",
    "    Args:\n",
    "        grid_size: The size of the grid.\n",
    "        start_position: The start position of the agent.\n",
    "        goal_position: The goal position of the agent.\n",
    "        agent_position: The current position of the agent.\n",
    "        holes: An array of coordinates representing the hole positions.\n",
    "    \"\"\"\n",
    "\n",
    "    # Create a grid as a 3-channel RGB image.\n",
    "    grid = np.zeros((grid_size, grid_size, 3), dtype=np.uint8)\n",
    "\n",
    "    # Set the RGB colors for start, goal, agent, and holes.\n",
    "    start_color = (255, 0, 0)  # Red for start\n",
    "    goal_color = (0, 255, 0)   # Green for goal\n",
    "    agent_color = (0, 0, 255)  # Blue for agent\n",
    "    hole_color = (255, 255, 255)  # White for holes\n",
    "\n",
    "    # Mark the start, goal, agent, and hole positions with their respective colors.\n",
    "    grid[start_position[0], start_position[1]] = start_color\n",
    "    grid[goal_position[0], goal_position[1]] = goal_color\n",
    "    grid[agent_position[0], agent_position[1]] = agent_color\n",
    "\n",
    "    for hole in holes:\n",
    "        grid[hole[0], hole[1]] = hole_color\n",
    "\n",
    "    # Plot the grid.\n",
    "    plt.imshow(grid)\n",
    "\n",
    "    # Add labels to the axes.\n",
    "    plt.xlabel('X')\n",
    "    plt.ylabel('Y')\n",
    "\n",
    "    # Set the title of the plot.\n",
    "    plt.title('Navigation problem on a {}x{} grid'.format(grid_size, grid_size))\n",
    "\n",
    "    # Show the plot.\n",
    "    plt.show()\n",
    "\n",
    "def generate_random_holes(grid_size, num_holes):\n",
    "    \n",
    "    \"\"\"Generate random hole coordinates that are not at the beginning nor at the end.\n",
    "\n",
    "    Args:\n",
    "        grid_size: The size of the grid.\n",
    "        num_holes: The number of random holes to generate.\n",
    "\n",
    "    Returns:\n",
    "        A list of unique (x, y) coordinates for the holes.\n",
    "    \"\"\"\n",
    "    if num_holes >= 2 and num_holes <= grid_size - 2:\n",
    "        # Generate a list of all possible coordinates except the beginning and end.\n",
    "        possible_coordinates = [(x, y) for x in range(1, grid_size - 1) for y in range(1, grid_size - 1)]\n",
    "        \n",
    "        # Randomly select unique coordinates for the holes.\n",
    "        random_holes = random.sample(possible_coordinates, num_holes)\n",
    "        \n",
    "        return random_holes\n",
    "    else:\n",
    "        raise ValueError(\"Number of holes should be between 2 and grid_size - 2\")\n",
    "# Example usage:\n",
    "\n",
    "def move_agent(agent_position, direction):\n",
    "    # Define possible directions (up, down, left, right)\n",
    "    directions = [(0, 1), (0, -1), (1, 0), (-1, 0)]\n",
    "    \n",
    "    # Calculate the new position based on the chosen direction\n",
    "    new_position = (agent_position[0] + direction[0], agent_position[1] + direction[1])\n",
    "    \n",
    "    return new_position\n",
    "\n",
    "def is_valid_move(new_position, grid_size):\n",
    "    # Check if the new position is within the grid boundaries\n",
    "    if 0 <= new_position[0] < grid_size and 0 <= new_position[1] < grid_size:\n",
    "        return True\n",
    "    else:\n",
    "        return False\n",
    "\n",
    "#  Define the grid size, start, goal, and holes\n",
    "grid_size = 30\n",
    "start_position = (0, 0)\n",
    "goal_position = (29, 29)\n",
    "agent_position = (1, 1)\n",
    "num_holes = 20\n",
    "\n",
    "holes = generate_random_holes(grid_size, num_holes)\n",
    "\n",
    "# Initialize the plot outside of the loop\n",
    "plot_navigation_problem(grid_size, start_position, goal_position, agent_position, holes=holes)\n",
    "\n",
    "# Main agent navigation loop\n",
    "while agent_position != goal_position:\n",
    "    # Get user input for the agent's next move\n",
    "    move = input(\"Enter a move (W for up, S for down, A for left, D for right): \").upper()\n",
    "\n",
    "    if move not in ['W', 'S', 'A', 'D']:\n",
    "        print(\"Invalid move. Use W, S, A, or D.\")\n",
    "        continue\n",
    "\n",
    "    if move == 'W':\n",
    "        direction = (-1, 0)  # Move up\n",
    "    elif move == 'S':\n",
    "        direction = (1, 0)   # Move down\n",
    "    elif move == 'A':\n",
    "        direction = (0, -1)  # Move left\n",
    "    elif move == 'D':\n",
    "        direction = (0, 1)   # Move right\n",
    "\n",
    "    new_position = move_agent(agent_position, direction)\n",
    "\n",
    "    if is_valid_move(new_position, grid_size):\n",
    "        if new_position in holes:\n",
    "            print(\"Agent landed on a hole. Game over!\")\n",
    "            break\n",
    "        agent_position = new_position\n",
    "    else:\n",
    "        print(\"Agent hit a wall. Game over!\")\n",
    "        break\n",
    "\n",
    "    # Update the displayed plot with the new grid\n",
    "    plot_navigation_problem(grid_size, start_position, goal_position, agent_position, holes=holes)\n",
    "    plt.pause(0.1)\n",
    "\n",
    "if agent_position == goal_position:\n",
    "    print(\"Agent reached the goal! You won!\")\n",
    "\n",
    "# Show the final plot\n",
    "plt.show()"
   ]
  },
  {
   "cell_type": "markdown",
   "metadata": {},
   "source": [
    "# 2do sprint\n"
   ]
  },
  {
   "cell_type": "markdown",
   "metadata": {},
   "source": [
    "## Random Agent with NN"
   ]
  },
  {
   "cell_type": "code",
   "execution_count": null,
   "metadata": {},
   "outputs": [],
   "source": [
    "nums = []\n",
    "new_nums = []\n",
    "a= 0\n",
    "\n",
    "for i in range(100000):\n",
    "    a+=1\n",
    "    if a%1000 == 0:\n",
    "        print(a)\n",
    "\n",
    "    grid_size = 30\n",
    "    num_holes = 20\n",
    "\n",
    "    env = Environment(grid_size, num_holes)\n",
    "    neural_network = NeuralNetwork(9, 4)  # Adjust input and output sizes as needed\n",
    "    random_agent = NeuralNetworkAgent(neural_network)\n",
    "    game = Game(env, random_agent, neural_network, False)\n",
    "    win_counts = 0\n",
    "    for i in range(2):\n",
    "        game.play(random_moves=True)\n",
    "        if game.final == True:\n",
    "            new_nums.append(game.counter)\n",
    "            win_counts +=1\n",
    "            if win_counts == 5:\n",
    "                print('gano 5')\n",
    "                win_nn = neural_network\n",
    "                break\n",
    "            new_env = Environment(grid_size, num_holes)\n",
    "            new_agent = NeuralNetworkAgent(neural_network)\n",
    "            game = Game(new_env, new_agent, neural_network, False)\n",
    "            print('new game')\n",
    "        else:\n",
    "            break\n",
    "    \n",
    "    if win_counts == 5:\n",
    "        break\n",
    "        \n",
    "    nums.append(game.counter)"
   ]
  },
  {
   "cell_type": "markdown",
   "metadata": {},
   "source": [
    "## GA optimization\n"
   ]
  },
  {
   "cell_type": "code",
   "execution_count": 1,
   "metadata": {},
   "outputs": [
    {
     "data": {
      "text/plain": [
       "1"
      ]
     },
     "execution_count": 1,
     "metadata": {},
     "output_type": "execute_result"
    }
   ],
   "source": [
    "#specific_holes = [(0, 11), (0, 23), (0, 18), (3, 29), (5, 29), (7, 29), (10, 29), (13, 29), (16, 29), (19, 29), (22, 29), (26, 29), (29, 23), (29, 20), (29, 17), (29, 14), (29, 9), (29, 4), (29, 2), (26, 0), (24, 0), (22, 0), (20, 0), (18, 0), (16, 0), (13, 0), (11, 1), (7, 0), (6, 0), (4, 0), (3, 0), (11, 0), (11, 2), (10, 2), (10, 3), (9, 5), (8, 6), (7, 6), (6, 7), (6, 8), (5, 8), (8, 5), (7, 7), (5, 9), (5, 10), (5, 11), (5, 12), (5, 13), (5, 14), (5, 15), (5, 16), (5, 17), (5, 18), (7, 17), (6, 18), (7, 16), (8, 16), (9, 16), (5, 26), (6, 26), (7, 26), (8, 26), (9, 26), (11, 26), (10, 26), (12, 26), (13, 26), (14, 26), (15, 26), (5, 25), (6, 25), (8, 25), (7, 25), (9, 25), (10, 25), (11, 25), (12, 25), (13, 25), (14, 25), (15, 25), (10, 16), (11, 16), (12, 16), (13, 16), (14, 16), (15, 16), (16, 16), (7, 18), (7, 19), (5, 19), (6, 19), (9, 3), (9, 4), (5, 1), (5, 0), (5, 2), (5, 3), (5, 4), (5, 5), (5, 6), (5, 7), (17, 15), (16, 26), (16, 25), (17, 25), (17, 24), (18, 25), (18, 24), (18, 23), (19, 24), (19, 23), (19, 22), (20, 22), (20, 21), (20, 20), (20, 23), (20, 19), (21, 22), (21, 21), (21, 20), (21, 19), (21, 18), (22, 18), (22, 19), (22, 17), (23, 18), (23, 15), (23, 16), (17, 14), (17, 13), (17, 12), (17, 16), (17, 11), (17, 10), (17, 9), (17, 8), (18, 8), (19, 8), (20, 8), (21, 8), (22, 8), (23, 8), (24, 8), (25, 8), (26, 8), (27, 8), (28, 8), (29, 8), (28, 9), (29, 10), (23, 17), (5, 27), (5, 28)]\n",
    "specific_holes = [(5,5)]\n",
    "len(specific_holes)\n"
   ]
  },
  {
   "cell_type": "code",
   "execution_count": 2,
   "metadata": {},
   "outputs": [
    {
     "name": "stdout",
     "output_type": "stream",
     "text": [
      "Generation 0: Best Fitness = -383\n",
      "Generation 1: Best Fitness = 950\n",
      "Generation 2: Best Fitness = 1042\n",
      "Generation 3: Best Fitness = 59733\n",
      "Generation 4: Best Fitness = 997100\n",
      "Generation 5: Best Fitness = 997100\n"
     ]
    },
    {
     "ename": "KeyboardInterrupt",
     "evalue": "",
     "output_type": "error",
     "traceback": [
      "\u001b[1;31m---------------------------------------------------------------------------\u001b[0m",
      "\u001b[1;31mKeyboardInterrupt\u001b[0m                         Traceback (most recent call last)",
      "\u001b[1;32mc:\\code\\Agent-navigation-problem\\main.ipynb Cell 8\u001b[0m line \u001b[0;36m3\n\u001b[0;32m     <a href='vscode-notebook-cell:/c%3A/code/Agent-navigation-problem/main.ipynb#X10sZmlsZQ%3D%3D?line=30'>31</a>\u001b[0m         \u001b[39mreturn\u001b[39;00m a_perf\n\u001b[0;32m     <a href='vscode-notebook-cell:/c%3A/code/Agent-navigation-problem/main.ipynb#X10sZmlsZQ%3D%3D?line=32'>33</a>\u001b[0m ga \u001b[39m=\u001b[39m GeneticAlgorithm(population_size\u001b[39m=\u001b[39m\u001b[39m50\u001b[39m, fitness_function\u001b[39m=\u001b[39mfitness_function)\n\u001b[1;32m---> <a href='vscode-notebook-cell:/c%3A/code/Agent-navigation-problem/main.ipynb#X10sZmlsZQ%3D%3D?line=33'>34</a>\u001b[0m ga\u001b[39m.\u001b[39;49mrun(generations\u001b[39m=\u001b[39;49m\u001b[39m500\u001b[39;49m)\n\u001b[0;32m     <a href='vscode-notebook-cell:/c%3A/code/Agent-navigation-problem/main.ipynb#X10sZmlsZQ%3D%3D?line=37'>38</a>\u001b[0m \u001b[39m## Ideas 3rd Sprint:\u001b[39;00m\n\u001b[0;32m     <a href='vscode-notebook-cell:/c%3A/code/Agent-navigation-problem/main.ipynb#X10sZmlsZQ%3D%3D?line=38'>39</a>\u001b[0m \u001b[39m## Crear un camino y optimizar el agente para que lo siga\u001b[39;00m\n\u001b[0;32m     <a href='vscode-notebook-cell:/c%3A/code/Agent-navigation-problem/main.ipynb#X10sZmlsZQ%3D%3D?line=39'>40</a>\u001b[0m \u001b[39m## Incluir la direccion de la meta como parametro\u001b[39;00m\n\u001b[1;32m   (...)\u001b[0m\n\u001b[0;32m     <a href='vscode-notebook-cell:/c%3A/code/Agent-navigation-problem/main.ipynb#X10sZmlsZQ%3D%3D?line=43'>44</a>\u001b[0m \u001b[39m## que el comienzo y la llegada sea variables.\u001b[39;00m\n\u001b[0;32m     <a href='vscode-notebook-cell:/c%3A/code/Agent-navigation-problem/main.ipynb#X10sZmlsZQ%3D%3D?line=44'>45</a>\u001b[0m \u001b[39m## agregar varios goals, y la distacia al mas cercano.\u001b[39;00m\n",
      "File \u001b[1;32mc:\\code\\Agent-navigation-problem\\GeneticAlgorithm.py:103\u001b[0m, in \u001b[0;36mGeneticAlgorithm.run\u001b[1;34m(self, generations)\u001b[0m\n\u001b[0;32m    101\u001b[0m \u001b[39mself\u001b[39m\u001b[39m.\u001b[39minitialize_population()\n\u001b[0;32m    102\u001b[0m \u001b[39mfor\u001b[39;00m generation \u001b[39min\u001b[39;00m \u001b[39mrange\u001b[39m(generations):\n\u001b[1;32m--> 103\u001b[0m     \u001b[39mself\u001b[39;49m\u001b[39m.\u001b[39;49mevaluate_population()\n\u001b[0;32m    104\u001b[0m     \u001b[39mprint\u001b[39m(\u001b[39mf\u001b[39m\u001b[39m\"\u001b[39m\u001b[39mGeneration \u001b[39m\u001b[39m{\u001b[39;00mgeneration\u001b[39m}\u001b[39;00m\u001b[39m: Best Fitness = \u001b[39m\u001b[39m{\u001b[39;00m\u001b[39mself\u001b[39m\u001b[39m.\u001b[39mbest_fitness\u001b[39m}\u001b[39;00m\u001b[39m\"\u001b[39m)\n\u001b[0;32m    105\u001b[0m     \u001b[39mself\u001b[39m\u001b[39m.\u001b[39mevolve()\n",
      "File \u001b[1;32mc:\\code\\Agent-navigation-problem\\GeneticAlgorithm.py:27\u001b[0m, in \u001b[0;36mGeneticAlgorithm.evaluate_population\u001b[1;34m(self)\u001b[0m\n\u001b[0;32m     26\u001b[0m \u001b[39mdef\u001b[39;00m \u001b[39mevaluate_population\u001b[39m(\u001b[39mself\u001b[39m):\n\u001b[1;32m---> 27\u001b[0m     \u001b[39mself\u001b[39m\u001b[39m.\u001b[39mfitness_values \u001b[39m=\u001b[39m [\u001b[39mself\u001b[39;49m\u001b[39m.\u001b[39;49mfitness_function(individual) \u001b[39mfor\u001b[39;49;00m individual \u001b[39min\u001b[39;49;00m \u001b[39mself\u001b[39;49m\u001b[39m.\u001b[39;49mpopulation]\n\u001b[0;32m     28\u001b[0m     best_index \u001b[39m=\u001b[39m \u001b[39mmax\u001b[39m(\u001b[39mrange\u001b[39m(\u001b[39mself\u001b[39m\u001b[39m.\u001b[39mpopulation_size), key\u001b[39m=\u001b[39m\u001b[39mlambda\u001b[39;00m i: \u001b[39mself\u001b[39m\u001b[39m.\u001b[39mfitness_values[i])\n\u001b[0;32m     29\u001b[0m     \u001b[39mself\u001b[39m\u001b[39m.\u001b[39mbest_individual \u001b[39m=\u001b[39m \u001b[39mself\u001b[39m\u001b[39m.\u001b[39mpopulation[best_index]\n",
      "File \u001b[1;32mc:\\code\\Agent-navigation-problem\\GeneticAlgorithm.py:27\u001b[0m, in \u001b[0;36m<listcomp>\u001b[1;34m(.0)\u001b[0m\n\u001b[0;32m     26\u001b[0m \u001b[39mdef\u001b[39;00m \u001b[39mevaluate_population\u001b[39m(\u001b[39mself\u001b[39m):\n\u001b[1;32m---> 27\u001b[0m     \u001b[39mself\u001b[39m\u001b[39m.\u001b[39mfitness_values \u001b[39m=\u001b[39m [\u001b[39mself\u001b[39;49m\u001b[39m.\u001b[39;49mfitness_function(individual) \u001b[39mfor\u001b[39;00m individual \u001b[39min\u001b[39;00m \u001b[39mself\u001b[39m\u001b[39m.\u001b[39mpopulation]\n\u001b[0;32m     28\u001b[0m     best_index \u001b[39m=\u001b[39m \u001b[39mmax\u001b[39m(\u001b[39mrange\u001b[39m(\u001b[39mself\u001b[39m\u001b[39m.\u001b[39mpopulation_size), key\u001b[39m=\u001b[39m\u001b[39mlambda\u001b[39;00m i: \u001b[39mself\u001b[39m\u001b[39m.\u001b[39mfitness_values[i])\n\u001b[0;32m     29\u001b[0m     \u001b[39mself\u001b[39m\u001b[39m.\u001b[39mbest_individual \u001b[39m=\u001b[39m \u001b[39mself\u001b[39m\u001b[39m.\u001b[39mpopulation[best_index]\n",
      "\u001b[1;32mc:\\code\\Agent-navigation-problem\\main.ipynb Cell 8\u001b[0m line \u001b[0;36m2\n\u001b[0;32m     <a href='vscode-notebook-cell:/c%3A/code/Agent-navigation-problem/main.ipynb#X10sZmlsZQ%3D%3D?line=17'>18</a>\u001b[0m \u001b[39mfor\u001b[39;00m _ \u001b[39min\u001b[39;00m \u001b[39mrange\u001b[39m(\u001b[39m50\u001b[39m):\n\u001b[0;32m     <a href='vscode-notebook-cell:/c%3A/code/Agent-navigation-problem/main.ipynb#X10sZmlsZQ%3D%3D?line=18'>19</a>\u001b[0m     agente \u001b[39m=\u001b[39m NeuralNetworkAgent(neural_network\u001b[39m=\u001b[39mindividuo)\n\u001b[1;32m---> <a href='vscode-notebook-cell:/c%3A/code/Agent-navigation-problem/main.ipynb#X10sZmlsZQ%3D%3D?line=19'>20</a>\u001b[0m     perf , win , crash \u001b[39m=\u001b[39m play_game(agente)\n\u001b[0;32m     <a href='vscode-notebook-cell:/c%3A/code/Agent-navigation-problem/main.ipynb#X10sZmlsZQ%3D%3D?line=20'>21</a>\u001b[0m     \u001b[39mif\u001b[39;00m win:\n\u001b[0;32m     <a href='vscode-notebook-cell:/c%3A/code/Agent-navigation-problem/main.ipynb#X10sZmlsZQ%3D%3D?line=21'>22</a>\u001b[0m         a_perf \u001b[39m+\u001b[39m\u001b[39m=\u001b[39m \u001b[39m20000\u001b[39m\n",
      "\u001b[1;32mc:\\code\\Agent-navigation-problem\\main.ipynb Cell 8\u001b[0m line \u001b[0;36m1\n\u001b[0;32m     <a href='vscode-notebook-cell:/c%3A/code/Agent-navigation-problem/main.ipynb#X10sZmlsZQ%3D%3D?line=9'>10</a>\u001b[0m env \u001b[39m=\u001b[39m Environment(grid_size, num_holes, specific_holes)\n\u001b[0;32m     <a href='vscode-notebook-cell:/c%3A/code/Agent-navigation-problem/main.ipynb#X10sZmlsZQ%3D%3D?line=10'>11</a>\u001b[0m game \u001b[39m=\u001b[39m Game(env, agent, \u001b[39mFalse\u001b[39;00m)\n\u001b[1;32m---> <a href='vscode-notebook-cell:/c%3A/code/Agent-navigation-problem/main.ipynb#X10sZmlsZQ%3D%3D?line=11'>12</a>\u001b[0m game\u001b[39m.\u001b[39;49mplay(random_moves\u001b[39m=\u001b[39;49m\u001b[39mTrue\u001b[39;49;00m)\n\u001b[0;32m     <a href='vscode-notebook-cell:/c%3A/code/Agent-navigation-problem/main.ipynb#X10sZmlsZQ%3D%3D?line=13'>14</a>\u001b[0m \u001b[39mreturn\u001b[39;00m game\u001b[39m.\u001b[39mcounter , game\u001b[39m.\u001b[39mfinal , game\u001b[39m.\u001b[39mcrash\n",
      "File \u001b[1;32mc:\\code\\Agent-navigation-problem\\Game.py:78\u001b[0m, in \u001b[0;36mGame.play\u001b[1;34m(self, random_moves)\u001b[0m\n\u001b[0;32m     76\u001b[0m \u001b[39mif\u001b[39;00m random_moves:\n\u001b[0;32m     77\u001b[0m     observations \u001b[39m=\u001b[39m \u001b[39mself\u001b[39m\u001b[39m.\u001b[39mget_observations()  \u001b[39m# Implement this method to get surrounding observations\u001b[39;00m\n\u001b[1;32m---> 78\u001b[0m     movement \u001b[39m=\u001b[39m \u001b[39mself\u001b[39;49m\u001b[39m.\u001b[39;49magent\u001b[39m.\u001b[39;49mmake_decision(observations)\n\u001b[0;32m     79\u001b[0m \u001b[39melse\u001b[39;00m:\n\u001b[0;32m     80\u001b[0m     move \u001b[39m=\u001b[39m \u001b[39minput\u001b[39m(\u001b[39m\"\u001b[39m\u001b[39mEnter a move (W for up, S for down, A for left, D for right): \u001b[39m\u001b[39m\"\u001b[39m)\u001b[39m.\u001b[39mupper()\n",
      "File \u001b[1;32mc:\\code\\Agent-navigation-problem\\Agent.py:19\u001b[0m, in \u001b[0;36mNeuralNetworkAgent.make_decision\u001b[1;34m(self, observations)\u001b[0m\n\u001b[0;32m     17\u001b[0m \u001b[39mwith\u001b[39;00m torch\u001b[39m.\u001b[39mno_grad():\n\u001b[0;32m     18\u001b[0m     observations_tensor \u001b[39m=\u001b[39m torch\u001b[39m.\u001b[39mtensor(observations, dtype\u001b[39m=\u001b[39mtorch\u001b[39m.\u001b[39mfloat32)\n\u001b[1;32m---> 19\u001b[0m     outputs \u001b[39m=\u001b[39m \u001b[39mself\u001b[39;49m\u001b[39m.\u001b[39;49mneural_network(observations_tensor)\n\u001b[0;32m     20\u001b[0m     \u001b[39m# Assuming outputs represent probabilities for each movement\u001b[39;00m\n\u001b[0;32m     21\u001b[0m     probabilities \u001b[39m=\u001b[39m torch\u001b[39m.\u001b[39msoftmax(outputs, dim\u001b[39m=\u001b[39m\u001b[39m0\u001b[39m)\n",
      "File \u001b[1;32mc:\\Users\\mario\\AppData\\Local\\Programs\\Python\\Python311\\Lib\\site-packages\\torch\\nn\\modules\\module.py:1501\u001b[0m, in \u001b[0;36mModule._call_impl\u001b[1;34m(self, *args, **kwargs)\u001b[0m\n\u001b[0;32m   1496\u001b[0m \u001b[39m# If we don't have any hooks, we want to skip the rest of the logic in\u001b[39;00m\n\u001b[0;32m   1497\u001b[0m \u001b[39m# this function, and just call forward.\u001b[39;00m\n\u001b[0;32m   1498\u001b[0m \u001b[39mif\u001b[39;00m \u001b[39mnot\u001b[39;00m (\u001b[39mself\u001b[39m\u001b[39m.\u001b[39m_backward_hooks \u001b[39mor\u001b[39;00m \u001b[39mself\u001b[39m\u001b[39m.\u001b[39m_backward_pre_hooks \u001b[39mor\u001b[39;00m \u001b[39mself\u001b[39m\u001b[39m.\u001b[39m_forward_hooks \u001b[39mor\u001b[39;00m \u001b[39mself\u001b[39m\u001b[39m.\u001b[39m_forward_pre_hooks\n\u001b[0;32m   1499\u001b[0m         \u001b[39mor\u001b[39;00m _global_backward_pre_hooks \u001b[39mor\u001b[39;00m _global_backward_hooks\n\u001b[0;32m   1500\u001b[0m         \u001b[39mor\u001b[39;00m _global_forward_hooks \u001b[39mor\u001b[39;00m _global_forward_pre_hooks):\n\u001b[1;32m-> 1501\u001b[0m     \u001b[39mreturn\u001b[39;00m forward_call(\u001b[39m*\u001b[39;49margs, \u001b[39m*\u001b[39;49m\u001b[39m*\u001b[39;49mkwargs)\n\u001b[0;32m   1502\u001b[0m \u001b[39m# Do not call functions when jit is used\u001b[39;00m\n\u001b[0;32m   1503\u001b[0m full_backward_hooks, non_full_backward_hooks \u001b[39m=\u001b[39m [], []\n",
      "File \u001b[1;32mc:\\code\\Agent-navigation-problem\\NeuralNetwork.py:13\u001b[0m, in \u001b[0;36mNeuralNetwork.forward\u001b[1;34m(self, x)\u001b[0m\n\u001b[0;32m     11\u001b[0m \u001b[39mdef\u001b[39;00m \u001b[39mforward\u001b[39m(\u001b[39mself\u001b[39m, x):\n\u001b[0;32m     12\u001b[0m     x \u001b[39m=\u001b[39m torch\u001b[39m.\u001b[39mrelu(\u001b[39mself\u001b[39m\u001b[39m.\u001b[39mfc1(x))\n\u001b[1;32m---> 13\u001b[0m     x \u001b[39m=\u001b[39m \u001b[39mself\u001b[39;49m\u001b[39m.\u001b[39;49mfch(x)\n\u001b[0;32m     14\u001b[0m     x \u001b[39m=\u001b[39m \u001b[39mself\u001b[39m\u001b[39m.\u001b[39mfch2(x)\n\u001b[0;32m     15\u001b[0m     x \u001b[39m=\u001b[39m \u001b[39mself\u001b[39m\u001b[39m.\u001b[39mfc2(x)\n",
      "File \u001b[1;32mc:\\Users\\mario\\AppData\\Local\\Programs\\Python\\Python311\\Lib\\site-packages\\torch\\nn\\modules\\module.py:1501\u001b[0m, in \u001b[0;36mModule._call_impl\u001b[1;34m(self, *args, **kwargs)\u001b[0m\n\u001b[0;32m   1496\u001b[0m \u001b[39m# If we don't have any hooks, we want to skip the rest of the logic in\u001b[39;00m\n\u001b[0;32m   1497\u001b[0m \u001b[39m# this function, and just call forward.\u001b[39;00m\n\u001b[0;32m   1498\u001b[0m \u001b[39mif\u001b[39;00m \u001b[39mnot\u001b[39;00m (\u001b[39mself\u001b[39m\u001b[39m.\u001b[39m_backward_hooks \u001b[39mor\u001b[39;00m \u001b[39mself\u001b[39m\u001b[39m.\u001b[39m_backward_pre_hooks \u001b[39mor\u001b[39;00m \u001b[39mself\u001b[39m\u001b[39m.\u001b[39m_forward_hooks \u001b[39mor\u001b[39;00m \u001b[39mself\u001b[39m\u001b[39m.\u001b[39m_forward_pre_hooks\n\u001b[0;32m   1499\u001b[0m         \u001b[39mor\u001b[39;00m _global_backward_pre_hooks \u001b[39mor\u001b[39;00m _global_backward_hooks\n\u001b[0;32m   1500\u001b[0m         \u001b[39mor\u001b[39;00m _global_forward_hooks \u001b[39mor\u001b[39;00m _global_forward_pre_hooks):\n\u001b[1;32m-> 1501\u001b[0m     \u001b[39mreturn\u001b[39;00m forward_call(\u001b[39m*\u001b[39;49margs, \u001b[39m*\u001b[39;49m\u001b[39m*\u001b[39;49mkwargs)\n\u001b[0;32m   1502\u001b[0m \u001b[39m# Do not call functions when jit is used\u001b[39;00m\n\u001b[0;32m   1503\u001b[0m full_backward_hooks, non_full_backward_hooks \u001b[39m=\u001b[39m [], []\n",
      "File \u001b[1;32mc:\\Users\\mario\\AppData\\Local\\Programs\\Python\\Python311\\Lib\\site-packages\\torch\\nn\\modules\\linear.py:114\u001b[0m, in \u001b[0;36mLinear.forward\u001b[1;34m(self, input)\u001b[0m\n\u001b[0;32m    113\u001b[0m \u001b[39mdef\u001b[39;00m \u001b[39mforward\u001b[39m(\u001b[39mself\u001b[39m, \u001b[39minput\u001b[39m: Tensor) \u001b[39m-\u001b[39m\u001b[39m>\u001b[39m Tensor:\n\u001b[1;32m--> 114\u001b[0m     \u001b[39mreturn\u001b[39;00m F\u001b[39m.\u001b[39;49mlinear(\u001b[39minput\u001b[39;49m, \u001b[39mself\u001b[39;49m\u001b[39m.\u001b[39;49mweight, \u001b[39mself\u001b[39;49m\u001b[39m.\u001b[39;49mbias)\n",
      "\u001b[1;31mKeyboardInterrupt\u001b[0m: "
     ]
    }
   ],
   "source": [
    "from Enviroment import Environment\n",
    "from Game import Game\n",
    "from Agent import NeuralNetworkAgent\n",
    "from NeuralNetwork import NeuralNetwork\n",
    "from GeneticAlgorithm import GeneticAlgorithm\n",
    "\n",
    "def play_game(agent):\n",
    "    grid_size = 30\n",
    "    num_holes = 28\n",
    "    env = Environment(grid_size, num_holes, specific_holes)\n",
    "    game = Game(env, agent, False)\n",
    "    game.play(random_moves=True)\n",
    "\n",
    "    return game.counter , game.final , game.crash\n",
    "\n",
    "def fitness_function(individuo):\n",
    "        a_perf = 0\n",
    "        for _ in range(50):\n",
    "            agente = NeuralNetworkAgent(neural_network=individuo)\n",
    "            perf , win , crash = play_game(agente)\n",
    "            if win:\n",
    "                a_perf += 20000\n",
    "                a_perf -= perf\n",
    "            else:\n",
    "                if crash:\n",
    "                     a_perf += perf\n",
    "                     a_perf -= 10\n",
    "                else:\n",
    "                    a_perf += perf\n",
    "        #print(perf , '  ' , stop)\n",
    "        return a_perf\n",
    "\n",
    "ga = GeneticAlgorithm(population_size=50, fitness_function=fitness_function)\n",
    "ga.run(generations=500)\n",
    "\n",
    "\n",
    "\n",
    "## Ideas 3rd Sprint:\n",
    "## Crear un camino y optimizar el agente para que lo siga\n",
    "## Incluir la direccion de la meta como parametro\n",
    "## Creaer un algoritmo mas elitista y con 20 carreras x fitnes.\n",
    "## Como aceleramos el proceso de evaluacion? multiprocessing.\n",
    "## Los mejores agentes de cada ronda deben converger en llegar siempre a la meta en las 20 carreras.\n",
    "## que el comienzo y la llegada sea variables.\n",
    "## agregar varios goals, y la distacia al mas cercano."
   ]
  },
  {
   "cell_type": "code",
   "execution_count": 3,
   "metadata": {},
   "outputs": [
    {
     "name": "stdout",
     "output_type": "stream",
     "text": [
      "58\n",
      "True\n"
     ]
    }
   ],
   "source": [
    "from Enviroment import Environment\n",
    "from Game import Game\n",
    "from Agent import NeuralNetworkAgent\n",
    "from NeuralNetwork import NeuralNetwork\n",
    "from GeneticAlgorithm import GeneticAlgorithm\n",
    "\n",
    "import numpy as np\n",
    "import matplotlib.pyplot as plt\n",
    "import imageio\n",
    "import numpy as np\n",
    "import imageio\n",
    "\n",
    "\n",
    "def play_game(agent):\n",
    "    grid_size = 30\n",
    "    num_holes = 2\n",
    "    env = Environment(grid_size, num_holes , specific_holes)\n",
    "    game = Game(env, agent, True)\n",
    "    game.play(random_moves=True)\n",
    "\n",
    "    return game.counter , game.final , game , env\n",
    "\n",
    "\n",
    "        \n",
    "neural_network = NeuralNetwork(9, 4)\n",
    "bnn = ga.best_individual\n",
    "agente = NeuralNetworkAgent(neural_network=bnn)\n",
    "\n",
    "perf , final , game , env= play_game(agente)\n",
    "\n",
    "print(perf)\n",
    "print(final)\n",
    "\n",
    "\n",
    "\n",
    "def create_bigger_grid(state, target_size=1000):\n",
    "  \"\"\"Creates a bigger grid from a smaller grid with the same elements.\n",
    "\n",
    "  Args:\n",
    "    state: A NumPy array representing the smaller grid.\n",
    "    target_size: The desired size of the bigger grid.\n",
    "\n",
    "  Returns:\n",
    "    A NumPy array representing the bigger grid.\n",
    "  \"\"\"\n",
    "\n",
    "  # Calculate the scaling factor.\n",
    "  scaling_factor = target_size / state.shape[0]\n",
    "\n",
    "  # Create a bigger grid.\n",
    "  bigger_grid = np.zeros((target_size, target_size, state.shape[2]), dtype=state.dtype)\n",
    "\n",
    "  # Copy the elements of the smaller grid to the bigger grid and add a 10px circle\n",
    "  # around each element.\n",
    "  for i in range(state.shape[0]):\n",
    "    for j in range(state.shape[1]):\n",
    "      bigger_grid[int(i * scaling_factor):int(i * scaling_factor + 11),\n",
    "                   int(j * scaling_factor):int(j * scaling_factor + 11), :] = state[i, j, :]\n",
    "\n",
    "  # Return the bigger grid.\n",
    "  return bigger_grid\n",
    "\n",
    "def create_gif_from_states(states, output_filename, duration=0.1):\n",
    "    images = []\n",
    "\n",
    "    for state in states:\n",
    "        # Assuming state is a 3D NumPy array\n",
    "        bigger_grid = create_bigger_grid(state)\n",
    "        image = np.uint8(bigger_grid)\n",
    "\n",
    "        # Resize the image to 1000x1000 pixels\n",
    "        images.append(image)\n",
    "\n",
    "    # Save the images as a GIF\n",
    "    imageio.mimsave(output_filename, images, duration=duration)\n",
    "\n",
    "create_gif_from_states(game.game_movie, 'UI\\static\\output.gif', duration=2)\n"
   ]
  },
  {
   "cell_type": "code",
   "execution_count": 35,
   "metadata": {},
   "outputs": [
    {
     "data": {
      "text/plain": [
       "[<matplotlib.lines.Line2D at 0x1b81d864950>]"
      ]
     },
     "execution_count": 35,
     "metadata": {},
     "output_type": "execute_result"
    },
    {
     "data": {
      "image/png": "[encoded data removed]",
      "text/plain": [
       "<Figure size 640x480 with 1 Axes>"
      ]
     },
     "metadata": {},
     "output_type": "display_data"
    }
   ],
   "source": [
    "plt.plot(ga.fitness_history)"
   ]
  },
  {
   "cell_type": "code",
   "execution_count": 115,
   "metadata": {},
   "outputs": [
    {
     "data": {
      "image/png": "[encoded data removed]",
      "text/plain": [
       "<Figure size 640x480 with 1 Axes>"
      ]
     },
     "metadata": {},
     "output_type": "display_data"
    }
   ],
   "source": [
    "import matplotlib.pyplot as plt\n",
    "import numpy as np\n",
    "\n",
    "data = [i for i in nums if i< 200]\n",
    "# Create a histogram of the data\n",
    "plt.hist(data, bins=30, density=True, alpha=0.5, color='b', edgecolor='black')\n",
    "\n",
    "# You can also overlay a probability density function if you have one\n",
    "# For example, a Gaussian distribution\n",
    "mu = np.mean(data)\n",
    "sigma = np.std(data)\n",
    "x = np.linspace(min(data), max(data), 100)\n",
    "pdf = (1 / (sigma * np.sqrt(2 * np.pi))) * np.exp(-0.5 * ((x - mu) / sigma) ** 2)\n",
    "plt.plot(x, pdf, 'k-', lw=2)\n",
    "\n",
    "# Add labels and a title\n",
    "plt.xlabel('Value')\n",
    "plt.ylabel('Density')\n",
    "plt.title('Density Distribution Graph')\n",
    "\n",
    "# Show the graph\n",
    "plt.show()"
   ]
  }
 ],
 "metadata": {
  "kernelspec": {
   "display_name": "Python 3",
   "language": "python",
   "name": "python3"
  },
  "language_info": {
   "codemirror_mode": {
    "name": "ipython",
    "version": 3
   },
   "file_extension": ".py",
   "mimetype": "text/x-python",
   "name": "python",
   "nbconvert_exporter": "python",
   "pygments_lexer": "ipython3",
   "version": "3.11.5"
  }
 },
 "nbformat": 4,
 "nbformat_minor": 2
}
