{
 "cells": [
  {
   "cell_type": "code",
   "execution_count": 3,
   "metadata": {},
   "outputs": [
    {
     "data": {
      "text/plain": [
       "4.242640687119285"
      ]
     },
     "execution_count": 3,
     "metadata": {},
     "output_type": "execute_result"
    }
   ],
   "source": [
    "import numpy as np\n",
    "direction = np.array([3 - 0, 3 - 0])\n",
    "norm = np.linalg.norm(direction)\n",
    "\n",
    "norm"
   ]
  },
  {
   "cell_type": "code",
   "execution_count": 6,
   "metadata": {},
   "outputs": [
    {
     "data": {
      "text/plain": [
       "0.7071067811865476"
      ]
     },
     "execution_count": 6,
     "metadata": {},
     "output_type": "execute_result"
    }
   ],
   "source": [
    "normalized_direction = direction / norm\n",
    "\n",
    "normalized_direction[0]"
   ]
  },
  {
   "cell_type": "code",
   "execution_count": 1,
   "metadata": {},
   "outputs": [
    {
     "name": "stdout",
     "output_type": "stream",
     "text": [
      "[(0, 2), (0, 11), (0, 23), (0, 18), (3, 29), (5, 29), (7, 29), (10, 29), (13, 29), (16, 29), (19, 29), (22, 29), (26, 29), (29, 23), (29, 20), (29, 17), (29, 14), (29, 9), (29, 4), (29, 2), (26, 0), (24, 0), (22, 0), (20, 0), (18, 0), (16, 0), (13, 0), (11, 1), (7, 0), (6, 0), (4, 0), (3, 0), (11, 0), (11, 2), (10, 2), (10, 3), (9, 5), (8, 6), (7, 6), (6, 7), (6, 8), (5, 8), (8, 5), (7, 7), (5, 9), (5, 10), (5, 11), (5, 12), (5, 13), (5, 14), (5, 15), (5, 16), (5, 17), (5, 18), (7, 17), (6, 18), (7, 16), (8, 16), (9, 16), (5, 26), (6, 26), (7, 26), (8, 26), (9, 26), (11, 26), (10, 26), (12, 26), (13, 26), (14, 26), (15, 26), (5, 25), (6, 25), (8, 25), (7, 25), (9, 25), (10, 25), (11, 25), (12, 25), (13, 25), (14, 25), (15, 25), (10, 16), (11, 16), (12, 16), (13, 16), (14, 16), (15, 16), (16, 16), (7, 18), (7, 19), (5, 19), (6, 19), (9, 3), (9, 4), (5, 1), (5, 0), (5, 2), (5, 3), (5, 4), (5, 5), (5, 6), (5, 7), (17, 15), (16, 26), (16, 25), (17, 25), (17, 24), (18, 25), (18, 24), (18, 23), (19, 24), (19, 23), (19, 22), (20, 22), (20, 21), (20, 20), (20, 23), (20, 19), (21, 22), (21, 21), (21, 20), (21, 19), (21, 18), (22, 18), (22, 19), (22, 17), (23, 18), (23, 15), (23, 16), (17, 14), (17, 13), (17, 12), (17, 16), (17, 11), (17, 10), (17, 9), (17, 8), (18, 8), (19, 8), (20, 8), (21, 8), (22, 8), (23, 8), (24, 8), (25, 8), (26, 8), (27, 8), (28, 8), (29, 8), (28, 9), (29, 10), (23, 17)]\n",
      "[(0, 2), (0, 11), (0, 23), (0, 18), (3, 29), (5, 29), (7, 29), (10, 29), (13, 29), (16, 29), (19, 29), (22, 29), (26, 29), (29, 23), (29, 20), (29, 17), (29, 14), (29, 9), (29, 4), (29, 2), (26, 0), (24, 0), (22, 0), (20, 0), (18, 0), (16, 0), (13, 0), (11, 1), (7, 0), (6, 0), (4, 0), (3, 0), (11, 0), (11, 2), (10, 2), (10, 3), (9, 5), (8, 6), (7, 6), (6, 7), (6, 8), (5, 8), (8, 5), (7, 7), (5, 9), (5, 10), (5, 11), (5, 12), (5, 13), (5, 14), (5, 15), (5, 16), (5, 17), (5, 18), (7, 17), (6, 18), (7, 16), (8, 16), (9, 16), (5, 26), (6, 26), (7, 26), (8, 26), (9, 26), (11, 26), (10, 26), (12, 26), (13, 26), (14, 26), (15, 26), (5, 25), (6, 25), (8, 25), (7, 25), (9, 25), (10, 25), (11, 25), (12, 25), (13, 25), (14, 25), (15, 25), (10, 16), (11, 16), (12, 16), (13, 16), (14, 16), (15, 16), (16, 16), (7, 18), (7, 19), (5, 19), (6, 19), (9, 3), (9, 4), (5, 1), (5, 0), (5, 2), (5, 3), (5, 4), (5, 5), (5, 6), (5, 7), (17, 15), (16, 26), (16, 25), (17, 25), (17, 24), (18, 25), (18, 24), (18, 23), (19, 24), (19, 23), (19, 22), (20, 22), (20, 21), (20, 20), (20, 23), (20, 19), (21, 22), (21, 21), (21, 20), (21, 19), (21, 18), (22, 18), (22, 19), (22, 17), (23, 18), (23, 15), (23, 16), (17, 14), (17, 13), (17, 12), (17, 16), (17, 11), (17, 10), (17, 9), (17, 8), (18, 8), (19, 8), (20, 8), (21, 8), (22, 8), (23, 8), (24, 8), (25, 8), (26, 8), (27, 8), (28, 8), (29, 8), (28, 9), (29, 10), (23, 17), (5, 27), (5, 28)]\n"
     ]
    }
   ],
   "source": [
    "import tkinter as tk\n",
    "\n",
    "# Create a 30x30 grid represented as a list of lists\n",
    "grid = [[0 for _ in range(30)] for _ in range(30)]\n",
    "\n",
    "# List to store the coordinates of clicked squares\n",
    "clicked_squares = []\n",
    "\n",
    "def toggle_color(row, col):\n",
    "    # Toggle the color of the square\n",
    "    grid[row][col] = 1 - grid[row][col]\n",
    "\n",
    "    # Update the display\n",
    "    if grid[row][col] == 1:\n",
    "        canvas.itemconfig(rectangles[row][col], fill='black')\n",
    "        clicked_squares.append((row, col))\n",
    "    else:\n",
    "        canvas.itemconfig(rectangles[row][col], fill='white')\n",
    "        clicked_squares.remove((row, col))\n",
    "\n",
    "def on_square_click(event):\n",
    "    col = event.x // square_size\n",
    "    row = event.y // square_size\n",
    "    toggle_color(row, col)\n",
    "\n",
    "def generate_array():\n",
    "    print(clicked_squares)\n",
    "\n",
    "# Create the main window\n",
    "root = tk.Tk()\n",
    "root.title(\"Grid Clicker\")\n",
    "\n",
    "# Create a canvas to display the grid\n",
    "canvas = tk.Canvas(root, width=300, height=300)\n",
    "canvas.pack()\n",
    "\n",
    "# Calculate the size of each square in the grid\n",
    "square_size = 300 // 30\n",
    "\n",
    "# Create rectangles on the canvas to represent the grid\n",
    "rectangles = [[canvas.create_rectangle(col * square_size, row * square_size,\n",
    "                 (col + 1) * square_size, (row + 1) * square_size,\n",
    "                 fill='white', outline='black') for col in range(30)] for row in range(30)]\n",
    "\n",
    "# Bind the click event to the canvas\n",
    "canvas.bind(\"<Button-1>\", on_square_click)\n",
    "\n",
    "# Create a button to generate the array\n",
    "generate_button = tk.Button(root, text=\"Generate Array\", command=generate_array)\n",
    "generate_button.pack()\n",
    "\n",
    "# Start the tkinter main loop\n",
    "root.mainloop()"
   ]
  }
 ],
 "metadata": {
  "kernelspec": {
   "display_name": "Python 3",
   "language": "python",
   "name": "python3"
  },
  "language_info": {
   "codemirror_mode": {
    "name": "ipython",
    "version": 3
   },
   "file_extension": ".py",
   "mimetype": "text/x-python",
   "name": "python",
   "nbconvert_exporter": "python",
   "pygments_lexer": "ipython3",
   "version": "3.11.5"
  }
 },
 "nbformat": 4,
 "nbformat_minor": 2
}
